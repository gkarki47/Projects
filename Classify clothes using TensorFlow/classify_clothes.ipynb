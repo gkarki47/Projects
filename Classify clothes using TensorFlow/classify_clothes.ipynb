{
 "cells": [
  {
   "cell_type": "markdown",
   "metadata": {},
   "source": [
    "# Project - Classify clothes using TensorFlow\n",
    "## About the Dataset\n",
    "Fashion-MNIST is a dataset of Zalando's article images, consisting of a **training set of 60,000 examples** and a **test set of 10,000 examples**. Each example is a **28x28 grayscale image**, associated with a label from **10 classes**. Zalando intends Fashion-MNIST to serve as a direct drop-in replacement for the original MNIST dataset for benchmarking machine learning algorithms. It shares the same image size and structure of training and testing splits. Zalando seeks to replace the original MNIST dataset\n",
    "\n",
    "Training set - 60,000 examples\n",
    "\n",
    "Test set - 10,000 examples\n",
    "\n",
    "Each example is a 28x28 grayscale image\n",
    "\n",
    "10 classes"
   ]
  },
  {
   "cell_type": "markdown",
   "metadata": {},
   "source": [
    "**Labels**\n",
    "\n",
    "Each training and test example is assigned to one of the following labels:\n",
    "\n",
    "0 - T-shirt/top\n",
    "\n",
    "1 - Trouser\n",
    "\n",
    "2 - Pullover\n",
    "\n",
    "3 - Dress\n",
    "\n",
    "4 - Coat\n",
    "\n",
    "5 - Sandal\n",
    "\n",
    "6 - Shirt\n",
    "\n",
    "7 - Sneaker\n",
    "\n",
    "8 - Bag\n",
    "\n",
    "9 - Ankle boot"
   ]
  },
  {
   "cell_type": "markdown",
   "metadata": {},
   "source": [
    "“Fashion MNIST” dataset here is used for experimenting and practicing machine learning. Fashion-MNIST dataset is a collection of articles images provided by Zalando(https://zalando.com/) . Thanks to Zalando Research(https://github.com/zalandoresearch/fashion-mnist) for hosting the dataset."
   ]
  },
  {
   "cell_type": "code",
   "execution_count": 2,
   "metadata": {},
   "outputs": [],
   "source": [
    "import tensorflow as tf\n",
    "from tensorflow import keras\n",
    "from tensorflow.keras import layers, models\n",
    "from tensorflow.keras.models import load_model\n",
    "import os"
   ]
  },
  {
   "cell_type": "code",
   "execution_count": 3,
   "metadata": {},
   "outputs": [
    {
     "name": "stdout",
     "output_type": "stream",
     "text": [
      "1.14.0\n",
      "2.2.4-tf\n"
     ]
    }
   ],
   "source": [
    "print(tf.VERSION)\n",
    "print(tf.keras.__version__)"
   ]
  },
  {
   "cell_type": "code",
   "execution_count": 4,
   "metadata": {},
   "outputs": [],
   "source": [
    "import numpy as np\n",
    "import matplotlib.pyplot as plt"
   ]
  },
  {
   "cell_type": "code",
   "execution_count": 5,
   "metadata": {},
   "outputs": [],
   "source": [
    "# Fashion - MNIST - https://github.com/zalandoresearch/fashion-mnist\n",
    "fashion_mnist = keras.datasets.fashion_mnist\n",
    "\n",
    "(train_images, train_labels), (test_images, test_labels) = fashion_mnist.load_data()"
   ]
  },
  {
   "cell_type": "code",
   "execution_count": 6,
   "metadata": {},
   "outputs": [],
   "source": [
    "class_names = ['T-shirt/top', 'Trouser', 'Pullover', 'Dress', 'Coat', \n",
    "               'Sandal', 'Shirt', 'Sneaker', 'Bag', 'Ankle boot']"
   ]
  },
  {
   "cell_type": "code",
   "execution_count": 7,
   "metadata": {},
   "outputs": [
    {
     "data": {
      "text/plain": [
       "(60000, 28, 28)"
      ]
     },
     "execution_count": 7,
     "metadata": {},
     "output_type": "execute_result"
    }
   ],
   "source": [
    "train_images.shape"
   ]
  },
  {
   "cell_type": "markdown",
   "metadata": {},
   "source": [
    "Thus we see that training dataset has 60000 images (rows) each of size (28,28) or 28x28 i.e. 2-D images, and each pixel is a value from 0 to 255 describing the pixel intensity. 0 for white and 255 for black.\n",
    "\n",
    "Since a convolutional layer takes a 2-D image (2-D array) as input, we needn't convert these 2-D images to a 1-D arrays\n",
    "\n",
    "If we had to feed these 2-D images to a DNN (hidden layer), which expects a 1-D array as input, we would have to convert these 2-D iamges to 1-D arrays before feeding to hidden layer (DNN)"
   ]
  },
  {
   "cell_type": "code",
   "execution_count": 8,
   "metadata": {},
   "outputs": [
    {
     "data": {
      "text/plain": [
       "(60000,)"
      ]
     },
     "execution_count": 8,
     "metadata": {},
     "output_type": "execute_result"
    }
   ],
   "source": [
    "train_labels.shape"
   ]
  },
  {
   "cell_type": "code",
   "execution_count": 9,
   "metadata": {},
   "outputs": [
    {
     "data": {
      "text/plain": [
       "(10000, 28, 28)"
      ]
     },
     "execution_count": 9,
     "metadata": {},
     "output_type": "execute_result"
    }
   ],
   "source": [
    "test_images.shape"
   ]
  },
  {
   "cell_type": "code",
   "execution_count": 10,
   "metadata": {},
   "outputs": [
    {
     "data": {
      "text/plain": [
       "(10000,)"
      ]
     },
     "execution_count": 10,
     "metadata": {},
     "output_type": "execute_result"
    }
   ],
   "source": [
    "test_labels.shape"
   ]
  },
  {
   "cell_type": "code",
   "execution_count": 11,
   "metadata": {},
   "outputs": [
    {
     "data": {
      "text/plain": [
       "<matplotlib.image.AxesImage at 0x7f5087a282b0>"
      ]
     },
     "execution_count": 11,
     "metadata": {},
     "output_type": "execute_result"
    },
    {
     "data": {
      "image/png": "[encoded data removed]",
      "text/plain": [
       "<Figure size 432x288 with 1 Axes>"
      ]
     },
     "metadata": {
      "needs_background": "light"
     },
     "output_type": "display_data"
    }
   ],
   "source": [
    "plt.figure()\n",
    "plt.imshow(np.squeeze(train_images[220]))"
   ]
  },
  {
   "cell_type": "code",
   "execution_count": 12,
   "metadata": {},
   "outputs": [
    {
     "data": {
      "text/plain": [
       "8"
      ]
     },
     "execution_count": 12,
     "metadata": {},
     "output_type": "execute_result"
    }
   ],
   "source": [
    "train_labels[220]"
   ]
  },
  {
   "cell_type": "code",
   "execution_count": 13,
   "metadata": {},
   "outputs": [
    {
     "data": {
      "image/png": "[encoded data removed]",
      "text/plain": [
       "<Figure size 720x720 with 15 Axes>"
      ]
     },
     "metadata": {},
     "output_type": "display_data"
    }
   ],
   "source": [
    "# Let us plot some training images to see how they look\n",
    "plt.figure(figsize=(10,10))\n",
    "for i in range(15):\n",
    "    plt.subplot(5,5,i+1)\n",
    "    plt.xticks([])\n",
    "    plt.yticks([])\n",
    "    plt.imshow(train_images[i], cmap=plt.cm.binary)\n",
    "    plt.xlabel(class_names[train_labels[i]])\n",
    "plt.show()"
   ]
  },
  {
   "cell_type": "markdown",
   "metadata": {},
   "source": [
    "Now, since, we have one more dimension for the images i.e. Channels (color), let us add it to the dimensions of train_images and test_images by using reshape() function. In this case, it is a single color (hence, channels=1) i.e. 'grayscale'."
   ]
  },
  {
   "cell_type": "code",
   "execution_count": 14,
   "metadata": {},
   "outputs": [],
   "source": [
    "train_images = train_images.reshape((60000, 28, 28, 1))\n",
    "test_images = test_images.reshape((10000, 28, 28, 1))"
   ]
  },
  {
   "cell_type": "markdown",
   "metadata": {},
   "source": [
    "The pixel values for the images lie between 0 to 255 now, which is a large range.\n",
    "\n",
    "Let us normalize these values to a range from 0 to 1. Or  To do this, we can simply divide each pixel value with 255"
   ]
  },
  {
   "cell_type": "code",
   "execution_count": 15,
   "metadata": {},
   "outputs": [],
   "source": [
    "train_images_norm = train_images / 255.0\n",
    "test_images_norm = test_images / 255.0"
   ]
  },
  {
   "cell_type": "code",
   "execution_count": 16,
   "metadata": {},
   "outputs": [
    {
     "data": {
      "text/plain": [
       "(60000, 28, 28, 1)"
      ]
     },
     "execution_count": 16,
     "metadata": {},
     "output_type": "execute_result"
    }
   ],
   "source": [
    "train_images.shape"
   ]
  },
  {
   "cell_type": "code",
   "execution_count": 20,
   "metadata": {},
   "outputs": [],
   "source": [
    "# First convolutional layer. \n",
    "# Number of neurons = 32\n",
    "# filter(kernel) size = 3x3\n",
    "# Activation function = Relu\n",
    "# input data (images) size (height, width, channels) = (28, 28, 1)\n",
    "# Channels is 'colors' here. Since fashion MNIST images are grayscale, number of colors = 1, hence, channels = 1\n",
    "\n",
    "conv1 = layers.Conv2D(32, kernel_size = (3,3), activation='relu', input_shape=(28,28,1) )"
   ]
  },
  {
   "cell_type": "code",
   "execution_count": 21,
   "metadata": {},
   "outputs": [],
   "source": [
    "# Second convolutional layer. \n",
    "# Number of neurons = 64\n",
    "# filter(kernel) size = 3x3\n",
    "# Activation function = Relu\n",
    "# No separate input data for this layer, input to this layer are the 'weights' of the conv1 layer featureMaps\n",
    "# no need to specify explicitly the input to the other convolutional layers (except for the first layer, as above)\n",
    "\n",
    "conv2 = layers.Conv2D(64,kernel_size = (3,3), activation='relu')\n"
   ]
  },
  {
   "cell_type": "code",
   "execution_count": 22,
   "metadata": {},
   "outputs": [],
   "source": [
    "# Third convolutional layer. \n",
    "# Number of neurons = 128\n",
    "# filter(kernel) size = 3x3\n",
    "# Activation function = Relu\n",
    "# No separate input data for this layer, input to this layer are the 'weights' of the conv2 layer featureMaps\n",
    "# no need to specify explicitly the input to the other convolutional layers (except for the first layer, as above)\n",
    "\n",
    "conv3 = layers.Conv2D(128, kernel_size = (3,3), activation='relu')"
   ]
  },
  {
   "cell_type": "code",
   "execution_count": 23,
   "metadata": {},
   "outputs": [],
   "source": [
    "# Max Pool Layer\n",
    "# Since input to CNN is a 2-D image and ouput from last convolutional layer (featuerMap) is also 2-D array \n",
    "# (except the third dimension i.e. channels), we will use 2D version of Max Pooling function of TensorFlow Keras\n",
    "# to create a Max Pooling Layer, as shown below filter (kernel) size for Pooling Layer = 2x2\n",
    "\n",
    "#Creating first Max. Pooling Layer\n",
    "max_pool_1 = layers.MaxPooling2D((2,2))\n",
    "\n",
    "#Creating second Max. Pooling Layer\n",
    "max_pool_2 = layers.MaxPooling2D((2,2))\n",
    "\n",
    "#Creating third Max. Pooling Layer\n",
    "max_pool_3 = layers.MaxPooling2D((2,2))"
   ]
  },
  {
   "cell_type": "markdown",
   "metadata": {},
   "source": [
    "Let us create a Fully Connected Layer (Hidden Layer) and an Output Layer to perform Classification"
   ]
  },
  {
   "cell_type": "code",
   "execution_count": 24,
   "metadata": {},
   "outputs": [],
   "source": [
    "# Fully Connected (FC) Layer i.e. hidden layer expects input in 1-D format (1-D array), hence, we need to convert\n",
    "# 2-D output (2-D array) of last convolutional layer (conv3) to 1-D array i.e. we need to flatten the 2-D array\n",
    "# to 1-D array\n",
    "\n",
    "flat_layer = layers.Flatten()"
   ]
  },
  {
   "cell_type": "code",
   "execution_count": 25,
   "metadata": {},
   "outputs": [],
   "source": [
    "# Fully Connected (FC) Layer - Hidden(Dense) Layer\n",
    "# Normally, the number of neurons that we keep in FC layer should be equal to the number of neurons in just\n",
    "# immediate previous convolutional layer\n",
    "\n",
    "fc = layers.Dense(128, activation='relu')"
   ]
  },
  {
   "cell_type": "code",
   "execution_count": 26,
   "metadata": {},
   "outputs": [],
   "source": [
    "# Output Layer - with 10 neurons (as we have 10 output classes) and using 'softmax' function\n",
    "\n",
    "output = layers.Dense(10, 'softmax')"
   ]
  },
  {
   "cell_type": "code",
   "execution_count": 27,
   "metadata": {},
   "outputs": [],
   "source": [
    "# Creating first dropout layer (for the first Conv. layer 'conv1')\n",
    "drop_1 = keras.layers.Dropout(0.5)\n",
    "# Creating second dropout layer (for the second Conv. layer 'conv2')\n",
    "drop_2 = keras.layers.Dropout(0.5)\n",
    "# Creating third dropout layer (for the third Conv. layer 'conv3')\n",
    "drop_3 = keras.layers.Dropout(0.5)"
   ]
  },
  {
   "cell_type": "code",
   "execution_count": 28,
   "metadata": {},
   "outputs": [],
   "source": [
    "# Let us create a neural network by applying these above created Dropout Layers to the respecive convolutional Layers \n",
    "\n",
    "# Please note that the Dropout layer for all the convolutional layers will be applied after the pooling layer (max. pool layer)\n",
    "\n",
    "new_model = models.Sequential()"
   ]
  },
  {
   "cell_type": "code",
   "execution_count": 29,
   "metadata": {},
   "outputs": [],
   "source": [
    "new_model.add(conv1)\n",
    "# No Pooling Layer and Dropout layer for first Convolutional layer 'conv1'\n",
    "new_model.add(conv2)\n",
    "new_model.add(max_pool_2)\n",
    "new_model.add(drop_2)\n",
    "new_model.add(conv3)\n",
    "new_model.add(max_pool_3)\n",
    "new_model.add(drop_3)\n",
    "new_model.add(flat_layer)\n",
    "new_model.add(fc)\n",
    "new_model.add(output)"
   ]
  },
  {
   "cell_type": "markdown",
   "metadata": {},
   "source": [
    "Let us now specify the optimizer(adam), loss function(crossentropy) and metrics(accuracy) for this model"
   ]
  },
  {
   "cell_type": "code",
   "execution_count": 31,
   "metadata": {},
   "outputs": [],
   "source": [
    "new_model.compile(optimizer='adam',\n",
    "              loss='sparse_categorical_crossentropy',\n",
    "              metrics=['accuracy'])"
   ]
  },
  {
   "cell_type": "code",
   "execution_count": 30,
   "metadata": {
    "scrolled": false
   },
   "outputs": [
    {
     "name": "stdout",
     "output_type": "stream",
     "text": [
      "Model: \"sequential\"\n",
      "_________________________________________________________________\n",
      "Layer (type)                 Output Shape              Param #   \n",
      "=================================================================\n",
      "conv2d_3 (Conv2D)            (None, 26, 26, 32)        320       \n",
      "_________________________________________________________________\n",
      "conv2d_4 (Conv2D)            (None, 24, 24, 64)        18496     \n",
      "_________________________________________________________________\n",
      "max_pooling2d_1 (MaxPooling2 (None, 12, 12, 64)        0         \n",
      "_________________________________________________________________\n",
      "dropout_1 (Dropout)          (None, 12, 12, 64)        0         \n",
      "_________________________________________________________________\n",
      "conv2d_5 (Conv2D)            (None, 10, 10, 128)       73856     \n",
      "_________________________________________________________________\n",
      "max_pooling2d_2 (MaxPooling2 (None, 5, 5, 128)         0         \n",
      "_________________________________________________________________\n",
      "dropout_2 (Dropout)          (None, 5, 5, 128)         0         \n",
      "_________________________________________________________________\n",
      "flatten (Flatten)            (None, 3200)              0         \n",
      "_________________________________________________________________\n",
      "dense (Dense)                (None, 128)               409728    \n",
      "_________________________________________________________________\n",
      "dense_1 (Dense)              (None, 10)                1290      \n",
      "=================================================================\n",
      "Total params: 503,690\n",
      "Trainable params: 503,690\n",
      "Non-trainable params: 0\n",
      "_________________________________________________________________\n"
     ]
    }
   ],
   "source": [
    "# Let us see what all layers our model has\n",
    "\n",
    "new_model.summary()"
   ]
  },
  {
   "cell_type": "code",
   "execution_count": 32,
   "metadata": {},
   "outputs": [],
   "source": [
    "#from tensorflow.keras.callbacks import EarlyStopping, ModelCheckpoint"
   ]
  },
  {
   "cell_type": "code",
   "execution_count": 58,
   "metadata": {},
   "outputs": [],
   "source": [
    "# simple early stopping\n",
    "#es = EarlyStopping(monitor='val_loss',mode = 'min',patience=5, verbose=1)"
   ]
  },
  {
   "cell_type": "code",
   "execution_count": 70,
   "metadata": {},
   "outputs": [],
   "source": [
    "#mc = ModelCheckpoint(filepath='best_model.h5', monitor='val_acc', mode='max', verbose=1, save_best_only=True)\n",
    "#During training, the entire model will be saved to the file “best_model.h5” only when accuracy on the validation dataset improves overall across the entire training process."
   ]
  },
  {
   "cell_type": "code",
   "execution_count": 33,
   "metadata": {
    "scrolled": false
   },
   "outputs": [
    {
     "name": "stdout",
     "output_type": "stream",
     "text": [
      "Train on 54000 samples, validate on 6000 samples\n",
      "Epoch 1/20\n",
      "54000/54000 [==============================] - 44s 812us/sample - loss: 0.9971 - acc: 0.6321 - val_loss: 0.6117 - val_acc: 0.7778\n",
      "Epoch 2/20\n",
      "54000/54000 [==============================] - 44s 821us/sample - loss: 0.5549 - acc: 0.7920 - val_loss: 0.4586 - val_acc: 0.8330\n",
      "Epoch 3/20\n",
      "54000/54000 [==============================] - 44s 815us/sample - loss: 0.4639 - acc: 0.8315 - val_loss: 0.3952 - val_acc: 0.8530\n",
      "Epoch 4/20\n",
      "54000/54000 [==============================] - 44s 810us/sample - loss: 0.4147 - acc: 0.8509 - val_loss: 0.3590 - val_acc: 0.8747\n",
      "Epoch 5/20\n",
      "54000/54000 [==============================] - 43s 789us/sample - loss: 0.3765 - acc: 0.8649 - val_loss: 0.3314 - val_acc: 0.8847\n",
      "Epoch 6/20\n",
      "54000/54000 [==============================] - 44s 809us/sample - loss: 0.3588 - acc: 0.8698 - val_loss: 0.3117 - val_acc: 0.8882\n",
      "Epoch 7/20\n",
      "54000/54000 [==============================] - 46s 848us/sample - loss: 0.3331 - acc: 0.8782 - val_loss: 0.2994 - val_acc: 0.8962\n",
      "Epoch 8/20\n",
      "54000/54000 [==============================] - 46s 846us/sample - loss: 0.3219 - acc: 0.8829 - val_loss: 0.2787 - val_acc: 0.9040\n",
      "Epoch 9/20\n",
      "54000/54000 [==============================] - 46s 853us/sample - loss: 0.3041 - acc: 0.8894 - val_loss: 0.2718 - val_acc: 0.9035\n",
      "Epoch 10/20\n",
      "54000/54000 [==============================] - 49s 915us/sample - loss: 0.2953 - acc: 0.8922 - val_loss: 0.2647 - val_acc: 0.9070\n",
      "Epoch 11/20\n",
      "54000/54000 [==============================] - 50s 919us/sample - loss: 0.2836 - acc: 0.8960 - val_loss: 0.2585 - val_acc: 0.9085\n",
      "Epoch 12/20\n",
      "54000/54000 [==============================] - 46s 858us/sample - loss: 0.2735 - acc: 0.9001 - val_loss: 0.2500 - val_acc: 0.9140\n",
      "Epoch 13/20\n",
      "54000/54000 [==============================] - 47s 868us/sample - loss: 0.2645 - acc: 0.9036 - val_loss: 0.2436 - val_acc: 0.9150\n",
      "Epoch 14/20\n",
      "54000/54000 [==============================] - 49s 901us/sample - loss: 0.2585 - acc: 0.9055 - val_loss: 0.2458 - val_acc: 0.9108\n",
      "Epoch 15/20\n",
      "54000/54000 [==============================] - 52s 964us/sample - loss: 0.2513 - acc: 0.9076 - val_loss: 0.2300 - val_acc: 0.9190\n",
      "Epoch 16/20\n",
      "54000/54000 [==============================] - 49s 908us/sample - loss: 0.2423 - acc: 0.9114 - val_loss: 0.2297 - val_acc: 0.9160\n",
      "Epoch 17/20\n",
      "54000/54000 [==============================] - 52s 954us/sample - loss: 0.2397 - acc: 0.9127 - val_loss: 0.2289 - val_acc: 0.9208\n",
      "Epoch 18/20\n",
      "54000/54000 [==============================] - 46s 856us/sample - loss: 0.2350 - acc: 0.9135 - val_loss: 0.2230 - val_acc: 0.9228\n",
      "Epoch 19/20\n",
      "54000/54000 [==============================] - 51s 942us/sample - loss: 0.2290 - acc: 0.9155 - val_loss: 0.2189 - val_acc: 0.9207\n",
      "Epoch 20/20\n",
      "54000/54000 [==============================] - 50s 929us/sample - loss: 0.2264 - acc: 0.9171 - val_loss: 0.2157 - val_acc: 0.9227\n"
     ]
    },
    {
     "data": {
      "text/plain": [
       "<tensorflow.python.keras.callbacks.History at 0x7f5087964e10>"
      ]
     },
     "execution_count": 33,
     "metadata": {},
     "output_type": "execute_result"
    }
   ],
   "source": [
    "# we are using the normalized input data\n",
    "\n",
    "# Let us perform 20 epochs with batch_size as 512, and with shuffling = true \n",
    "\n",
    "# shuffle=true will shuffle the indexes of the instances in order to allocate different sets of instances \n",
    "# in validation dataset each time cross-validation runs\n",
    "\n",
    "# validation split=0.1 means a validation dataset of size of 10% is created from the training dataset for cross validation\n",
    "\n",
    "new_model.fit(train_images_norm, train_labels, epochs=20, batch_size=1000, shuffle=True, validation_split=0.1)"
   ]
  },
  {
   "cell_type": "code",
   "execution_count": 40,
   "metadata": {
    "scrolled": false
   },
   "outputs": [],
   "source": [
    "\n",
    "# load the saved model\n",
    "#saved_model = load_model('best_model.h5')"
   ]
  },
  {
   "cell_type": "code",
   "execution_count": 36,
   "metadata": {},
   "outputs": [
    {
     "name": "stdout",
     "output_type": "stream",
     "text": [
      "10000/10000 [==============================] - 3s 285us/sample - loss: 0.2270 - acc: 0.9207\n"
     ]
    }
   ],
   "source": [
    "test_loss, test_accuracy = new_model.evaluate(test_images_norm, test_labels)"
   ]
  },
  {
   "cell_type": "code",
   "execution_count": 37,
   "metadata": {},
   "outputs": [
    {
     "name": "stdout",
     "output_type": "stream",
     "text": [
      "0.9207\n"
     ]
    }
   ],
   "source": [
    "print(test_accuracy)"
   ]
  },
  {
   "cell_type": "code",
   "execution_count": 38,
   "metadata": {
    "scrolled": false
   },
   "outputs": [
    {
     "name": "stdout",
     "output_type": "stream",
     "text": [
      "0.22696104736328124\n"
     ]
    }
   ],
   "source": [
    "print(test_loss)"
   ]
  },
  {
   "cell_type": "code",
   "execution_count": 41,
   "metadata": {},
   "outputs": [
    {
     "name": "stdout",
     "output_type": "stream",
     "text": [
      "dict_keys(['loss', 'acc', 'val_loss', 'val_acc'])\n"
     ]
    }
   ],
   "source": [
    "print(new_model.history.history.keys())"
   ]
  },
  {
   "cell_type": "code",
   "execution_count": 39,
   "metadata": {},
   "outputs": [
    {
     "data": {
      "image/png": "[encoded data removed]",
      "text/plain": [
       "<Figure size 432x288 with 1 Axes>"
      ]
     },
     "metadata": {
      "needs_background": "light"
     },
     "output_type": "display_data"
    }
   ],
   "source": [
    "plt.plot(new_model.history.history['acc'])\n",
    "plt.plot(new_model.history.history['val_acc'])\n",
    "plt.title(\"Accuracy\")\n",
    "plt.ylabel(\"accuracy\")\n",
    "plt.xlabel(\"epoch\")\n",
    "plt.legend(['train', 'test'], loc='upper left')\n",
    "plt.show()"
   ]
  },
  {
   "cell_type": "code",
   "execution_count": 42,
   "metadata": {},
   "outputs": [
    {
     "data": {
      "image/png": "[encoded data removed]",
      "text/plain": [
       "<Figure size 432x288 with 1 Axes>"
      ]
     },
     "metadata": {
      "needs_background": "light"
     },
     "output_type": "display_data"
    }
   ],
   "source": [
    "plt.plot(new_model.history.history['loss'])\n",
    "plt.plot(new_model.history.history['val_loss'])\n",
    "plt.title(\"Loss\")\n",
    "plt.ylabel(\"loss\")\n",
    "plt.xlabel(\"epoch\")\n",
    "plt.legend(['train', 'test'], loc='upper left')\n",
    "plt.show()"
   ]
  },
  {
   "cell_type": "code",
   "execution_count": 43,
   "metadata": {},
   "outputs": [],
   "source": [
    "# Making predictions on Test dataset\n",
    "predicted_test_labels = new_model.predict(test_images_norm)"
   ]
  },
  {
   "cell_type": "code",
   "execution_count": 44,
   "metadata": {},
   "outputs": [
    {
     "data": {
      "text/plain": [
       "array([9.87520218e-01, 1.59052270e-05, 4.66911879e-04, 6.87432534e-04,\n",
       "       2.17369652e-05, 1.04057006e-06, 1.11847995e-02, 4.27542730e-08,\n",
       "       1.01385718e-04, 4.74178478e-07], dtype=float32)"
      ]
     },
     "execution_count": 44,
     "metadata": {},
     "output_type": "execute_result"
    }
   ],
   "source": [
    "predicted_test_labels[88]"
   ]
  },
  {
   "cell_type": "code",
   "execution_count": 45,
   "metadata": {},
   "outputs": [
    {
     "data": {
      "text/plain": [
       "0"
      ]
     },
     "execution_count": 45,
     "metadata": {},
     "output_type": "execute_result"
    }
   ],
   "source": [
    "predicted_test_labels_index = np.argmax(predicted_test_labels[88])\n",
    "predicted_test_labels_index"
   ]
  },
  {
   "cell_type": "code",
   "execution_count": null,
   "metadata": {},
   "outputs": [],
   "source": []
  }
 ],
 "metadata": {
  "kernelspec": {
   "display_name": "Python 3",
   "language": "python",
   "name": "python3"
  },
  "language_info": {
   "codemirror_mode": {
    "name": "ipython",
    "version": 3
   },
   "file_extension": ".py",
   "mimetype": "text/x-python",
   "name": "python",
   "nbconvert_exporter": "python",
   "pygments_lexer": "ipython3",
   "version": "3.6.8"
  },
  "toc": {
   "base_numbering": 1,
   "nav_menu": {},
   "number_sections": true,
   "sideBar": true,
   "skip_h1_title": false,
   "title_cell": "Table of Contents",
   "title_sidebar": "Contents",
   "toc_cell": false,
   "toc_position": {},
   "toc_section_display": true,
   "toc_window_display": false
  }
 },
 "nbformat": 4,
 "nbformat_minor": 2
}
